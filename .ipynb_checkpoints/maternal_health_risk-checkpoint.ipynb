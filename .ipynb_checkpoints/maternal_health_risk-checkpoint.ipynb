{
 "cells": [
  {
   "cell_type": "markdown",
   "id": "a2ba223e-c897-4eb2-beb0-4b523502c0e8",
   "metadata": {},
   "source": [
    "### Importing the necessary dependencies and activating them"
   ]
  },
  {
   "cell_type": "code",
   "execution_count": null,
   "id": "952d08cd-c0ab-4575-b424-610b2d167a57",
   "metadata": {},
   "outputs": [],
   "source": [
    "import pandas as pd\n",
    "import panel as pn                 #Here, the following dependencies necessary for the project were imported and activated\n",
    "import hvplot.pandas # noqa\n",
    "\n",
    "pn.extension('tabulator')"
   ]
  },
  {
   "cell_type": "markdown",
   "id": "33ee0a86-7c9c-40ef-ada1-92a407f73439",
   "metadata": {},
   "source": [
    "### loading the dataset **UN SDG maternal health risk data set**\n",
    "> source; [kaggle](kaggle.com)"
   ]
  },
  {
   "cell_type": "code",
   "execution_count": null,
   "id": "93a2f78e-a4d1-4000-9812-e67841075b9d",
   "metadata": {},
   "outputs": [],
   "source": [
    "df = pd.read_csv(\"maternal health risk data set.csv\")       #the first five(5) rows of the data is shown below;\n",
    "df.head()"
   ]
  },
  {
   "cell_type": "markdown",
   "id": "b215b65b-9b4e-4fbd-80ea-c1bc0dfc8587",
   "metadata": {},
   "source": [
    "#### checking if there are NaN values or ommitted values in the data set"
   ]
  },
  {
   "cell_type": "code",
   "execution_count": null,
   "id": "4445d8e5-b7d1-4ad5-9d6b-5febc119d252",
   "metadata": {},
   "outputs": [],
   "source": [
    "df.isna().sum()"
   ]
  },
  {
   "cell_type": "code",
   "execution_count": null,
   "id": "2f94fb70-5cad-4caa-ad71-f3a063413aea",
   "metadata": {},
   "outputs": [],
   "source": [
    "df['Age'].unique()"
   ]
  },
  {
   "cell_type": "markdown",
   "id": "e608dcff-2241-4fd1-9997-a30ac330e413",
   "metadata": {},
   "source": [
    "#### Descriptive statistics of the DataFrame."
   ]
  },
  {
   "cell_type": "code",
   "execution_count": null,
   "id": "fad95b58-dbe6-4863-9b81-8056836ced46",
   "metadata": {},
   "outputs": [],
   "source": [
    "df.describe()"
   ]
  },
  {
   "cell_type": "markdown",
   "id": "224e7158-1cd1-4b9e-bd7f-253d6357e400",
   "metadata": {},
   "source": [
    "#### The correlation between age and blood sugar levels of the pregnant women."
   ]
  },
  {
   "cell_type": "code",
   "execution_count": null,
   "id": "e1f87465-279e-4da2-ba0c-6a7891060cfa",
   "metadata": {},
   "outputs": [],
   "source": [
    "cor_age_bs = df['Age'].corr(df['BS'])\n",
    "cor_age_bs"
   ]
  },
  {
   "cell_type": "markdown",
   "id": "232e60b8-6ead-4de2-9714-8d5ca58ea0b7",
   "metadata": {},
   "source": [
    "#### The correlation between age and systolic BP of the pregnant women."
   ]
  },
  {
   "cell_type": "code",
   "execution_count": null,
   "id": "7e34c623-662e-408c-a356-8ddcb40f57b4",
   "metadata": {},
   "outputs": [],
   "source": [
    "cor_age_syst = df['Age'].corr(df['SystolicBP'])\n",
    "cor_age_syst"
   ]
  },
  {
   "cell_type": "markdown",
   "id": "d4c0c8f2-abde-4961-b26b-851bde6beafa",
   "metadata": {},
   "source": [
    "#### The correlation between systolic BP and Heart rate of the pregnant women."
   ]
  },
  {
   "cell_type": "code",
   "execution_count": null,
   "id": "c4ced2a4-d1e0-43f5-86e7-55a02d52ae47",
   "metadata": {},
   "outputs": [],
   "source": [
    "cor_syst_hrtrt = df['SystolicBP'].corr(df['HeartRate'])\n",
    "cor_syst_hrtrt"
   ]
  },
  {
   "cell_type": "markdown",
   "id": "0671a6fd-443d-43a5-aefb-50d59b52ca1a",
   "metadata": {},
   "source": [
    "#### Regressing age of the women against their blood sugar and heartrate\n",
    "* using statsmodels\n",
    "* linear regression\n",
    "* OLS model"
   ]
  },
  {
   "cell_type": "code",
   "execution_count": null,
   "id": "fa9aa112-2bf8-42b5-b865-c7b6426977bc",
   "metadata": {},
   "outputs": [],
   "source": [
    "import statsmodels.api as sm"
   ]
  },
  {
   "cell_type": "code",
   "execution_count": null,
   "id": "493a59a5-0f61-4f78-94ef-b21405abfa5e",
   "metadata": {},
   "outputs": [],
   "source": [
    "x = df[['BS', 'HeartRate']]\n",
    "y = df['Age']\n",
    "x = sm.add_constant(x)\n",
    "model = sm.OLS(y, x).fit()\n",
    "print(model.summary())"
   ]
  },
  {
   "cell_type": "markdown",
   "id": "8c7cc1b4-b39e-475e-b3cf-07cabb8fef8b",
   "metadata": {},
   "source": [
    "### A function that selects a risk level in order to bind it with a widget"
   ]
  },
  {
   "cell_type": "code",
   "execution_count": null,
   "id": "523143d6-db93-43a3-babb-dbdf43134b88",
   "metadata": {},
   "outputs": [],
   "source": [
    "def select_risk(risk_level):\n",
    "    return df[df['RiskLevel'] == risk_level]\n",
    "    "
   ]
  },
  {
   "cell_type": "markdown",
   "id": "35dbdc33-901f-44a6-a3b5-775af0c5fae9",
   "metadata": {},
   "source": [
    "#### Creating a widget to toggle the risks"
   ]
  },
  {
   "cell_type": "code",
   "execution_count": null,
   "id": "77e98f51-074f-4f2c-8a5c-455fdf7f884f",
   "metadata": {},
   "outputs": [],
   "source": [
    "risk_widget = pn.widgets.Select(name='risk selector', options=list(df['RiskLevel'].unique()))"
   ]
  },
  {
   "cell_type": "markdown",
   "id": "12e68ebc-8d6e-428b-a674-925e94abed8e",
   "metadata": {},
   "source": [
    "### Binding the widget with the function"
   ]
  },
  {
   "cell_type": "code",
   "execution_count": null,
   "id": "cd3dbe6a-d0a9-4f9c-8366-ae50af9649d6",
   "metadata": {},
   "outputs": [],
   "source": [
    "risk_df = pn.bind(select_risk, risk_widget)"
   ]
  },
  {
   "cell_type": "markdown",
   "id": "eeaac64a-0cf2-47e1-a60e-63f4c601245d",
   "metadata": {},
   "source": [
    "#### Calculating the percentages of the risks factors."
   ]
  },
  {
   "cell_type": "code",
   "execution_count": null,
   "id": "db8726fd-4943-49f8-abbe-9e207ccea13c",
   "metadata": {},
   "outputs": [],
   "source": [
    "low = select_risk('low risk')\n",
    "total_rows = len(low)\n",
    "per1 = (total_rows/len(df))* 100\n",
    "\n",
    "high = select_risk('high risk')\n",
    "total_rows = len(high)\n",
    "per2 = (total_rows/len(df))* 100\n",
    "\n",
    "mid = select_risk('mid risk')\n",
    "total_rows = len(mid)\n",
    "per3 = (total_rows/len(df))* 100"
   ]
  },
  {
   "cell_type": "markdown",
   "id": "7f7cfc07-5733-46ce-b476-31463679c187",
   "metadata": {},
   "source": [
    "#### Displaying the data with the widget "
   ]
  },
  {
   "cell_type": "code",
   "execution_count": null,
   "id": "2402a56d-8bae-4f57-9d2d-501a6197b380",
   "metadata": {},
   "outputs": [],
   "source": [
    "pn.Column(risk_widget, risk_df)"
   ]
  },
  {
   "cell_type": "markdown",
   "id": "d1b3b59f-70bd-4ff0-b612-7f5cc251b40a",
   "metadata": {},
   "source": [
    "### A function to make a scatter plot to react with the widget"
   ]
  },
  {
   "cell_type": "code",
   "execution_count": null,
   "id": "e982c785-8514-4baf-9b2f-594fe558f006",
   "metadata": {},
   "outputs": [],
   "source": [
    "def plot_risk(risk_level):\n",
    "    risk = select_risk(risk_level)\n",
    "    return risk.hvplot.scatter(x='Age', y=['SystolicBP', 'DiastolicBP', 'BS', 'HeartRate', 'BodyTemp'], \n",
    "                               title='The BP levels, BS, Heart Rate, & Body temp of the pregnant women')"
   ]
  },
  {
   "cell_type": "markdown",
   "id": "689bd999-0197-4a80-9948-9c1c9b49a51e",
   "metadata": {},
   "source": [
    "### Displaying the scatter plot using pn.Row"
   ]
  },
  {
   "cell_type": "code",
   "execution_count": null,
   "id": "cc53e427-0c0e-4280-b1cf-8db401c8ca95",
   "metadata": {},
   "outputs": [],
   "source": [
    "risk_scatter = pn.bind(plot_risk, risk_widget)\n",
    "pn.Row(risk_scatter, risk_widget)"
   ]
  },
  {
   "cell_type": "markdown",
   "id": "f9b45283-3d43-4134-82fc-470c48bda583",
   "metadata": {},
   "source": [
    "### A function to plot a line graph of the systolic and diastolic BP of the women"
   ]
  },
  {
   "cell_type": "code",
   "execution_count": null,
   "id": "1803debc-002f-4854-9c6c-b55a4f2bc376",
   "metadata": {},
   "outputs": [],
   "source": [
    "def plot_sys_dia(risk_level):\n",
    "    risk = select_risk(risk_level)\n",
    "    return risk.hvplot.line(y=['SystolicBP', 'DiastolicBP'], title='The systolic and diastolic distribution of the pregnant women')"
   ]
  },
  {
   "cell_type": "markdown",
   "id": "0b3441ca-f206-450f-9455-5d8fb2893384",
   "metadata": {},
   "source": [
    "### Displaying the plot with the widget"
   ]
  },
  {
   "cell_type": "code",
   "execution_count": null,
   "id": "b534b405-8cb9-4901-951d-fd13f995c048",
   "metadata": {},
   "outputs": [],
   "source": [
    "bp_plot = pn.bind(plot_sys_dia, risk_widget)\n",
    "pn.Row(bp_plot, risk_widget)"
   ]
  },
  {
   "cell_type": "markdown",
   "id": "565abcd1-5dd8-429f-8ac2-7d684eeef739",
   "metadata": {},
   "source": [
    "### A hexbin plot grouped by the risk level"
   ]
  },
  {
   "cell_type": "code",
   "execution_count": null,
   "id": "599bac6f-c4eb-46c4-9f99-60ca27706bb9",
   "metadata": {},
   "outputs": [],
   "source": [
    "df.hvplot.hexbin(x = 'Age',  y='BS', groupby='RiskLevel')"
   ]
  },
  {
   "cell_type": "markdown",
   "id": "bc395fb4-3e62-4d77-b7d8-74130435cfd6",
   "metadata": {},
   "source": [
    "### Creating a table of the data for use in the dashboard"
   ]
  },
  {
   "cell_type": "code",
   "execution_count": null,
   "id": "9b0a6db7-3a28-4537-b777-8abd23d02918",
   "metadata": {},
   "outputs": [],
   "source": [
    "df_table = pn.widgets.Tabulator(df, buttons={'Print': \"<i class='fa fa-print'></i>\"},)\n",
    "df_table"
   ]
  },
  {
   "cell_type": "markdown",
   "id": "5982b41f-a23b-4bdf-b707-5a4f22a2c873",
   "metadata": {},
   "source": [
    "## Creating an indicator of the risk levels"
   ]
  },
  {
   "cell_type": "code",
   "execution_count": null,
   "id": "88172388-e4bb-4e32-a33e-9fec680ab52c",
   "metadata": {},
   "outputs": [],
   "source": [
    "high_risk = pn.indicators.Number(\n",
    "    name = 'High Risk', value=26.8, format='{value}%',\n",
    "    colors= [(30, 'red'), (40, 'gold'), (50, 'green')]\n",
    ")\n",
    "mid_risk = pn.indicators.Number(\n",
    "    name = 'Mid Risk', value=33.1, format='{value}%',\n",
    "    colors= [(30, 'red'), (40, 'gold'), (50, 'green')]\n",
    ")\n",
    "low_risk = pn.indicators.Number(\n",
    "    name = 'Low Risk', value=40.1, format='{value}%',\n",
    "    colors= [(30, 'red'), (40, 'gold'), (50, 'green')]\n",
    ")\n",
    "\n",
    "indicator = pn.Column(high_risk, mid_risk, low_risk)"
   ]
  },
  {
   "cell_type": "markdown",
   "id": "09fb10f2-59fe-4b9b-8500-3c232b216c94",
   "metadata": {},
   "source": [
    "# creating and deploying a fine dashboard"
   ]
  },
  {
   "cell_type": "code",
   "execution_count": null,
   "id": "84fccb27-02a9-4dc3-9da2-25329738c792",
   "metadata": {},
   "outputs": [],
   "source": [
    "template = pn.template.FastListTemplate(\n",
    "    title=\"UN SDG Maternal Health risk in Bangladesh\",\n",
    "    sidebar=[risk_widget, indicator],\n",
    ")\n",
    "# Append a layout to the main area, to demonstrate the list-like API\n",
    "template.main.append(\n",
    "    pn.Column(\n",
    "        pn.bind(plot_risk, risk_widget),\n",
    "        pn.bind(plot_sys_dia, risk_widget),df.hvplot.hexbin(x = 'Age',  y='BS', groupby='RiskLevel'), df_table,\n",
    "    )\n",
    ")\n",
    "template.show();\n"
   ]
  },
  {
   "cell_type": "code",
   "execution_count": null,
   "id": "4e7e577d-9983-4351-80a9-3647c17ef439",
   "metadata": {},
   "outputs": [],
   "source": []
  }
 ],
 "metadata": {
  "kernelspec": {
   "display_name": "Python 3 (ipykernel)",
   "language": "python",
   "name": "python3"
  },
  "language_info": {
   "codemirror_mode": {
    "name": "ipython",
    "version": 3
   },
   "file_extension": ".py",
   "mimetype": "text/x-python",
   "name": "python",
   "nbconvert_exporter": "python",
   "pygments_lexer": "ipython3",
   "version": "3.12.5"
  }
 },
 "nbformat": 4,
 "nbformat_minor": 5
}
